{
 "cells": [
  {
   "cell_type": "code",
   "execution_count": 28,
   "id": "8c53cee8-7cb7-465f-9d14-a365b67cf54c",
   "metadata": {},
   "outputs": [
    {
     "name": "stdout",
     "output_type": "stream",
     "text": [
      "Area: 300\n",
      "Perimeter: 70\n"
     ]
    }
   ],
   "source": [
    "def rectangleProperties(l,b):\n",
    "    print(\"Area:\",l*b)\n",
    "    print(\"Perimeter:\",2*(l+b))\n",
    "rectangleProperties(20,15)"
   ]
  },
  {
   "cell_type": "code",
   "execution_count": 29,
   "id": "824e9b95-a530-4231-b21f-35d32e756412",
   "metadata": {},
   "outputs": [
    {
     "name": "stdout",
     "output_type": "stream",
     "text": [
      "Even\n"
     ]
    }
   ],
   "source": [
    "def isEvenOrOdd(n):\n",
    "    if n%2==0:\n",
    "        return \"Even\"\n",
    "    else:\n",
    "        return \"Odd\"\n",
    "print(isEvenOrOdd(12))\n"
   ]
  },
  {
   "cell_type": "code",
   "execution_count": 30,
   "id": "0b0cf972-4c3c-41bb-a453-20e23b42bf9a",
   "metadata": {},
   "outputs": [
    {
     "name": "stdout",
     "output_type": "stream",
     "text": [
      "GCD: 6\n",
      "LCM: 36\n"
     ]
    }
   ],
   "source": [
    "def GCD(a,b):\n",
    "    if b==0:\n",
    "        return a\n",
    "    return GCD(b,a%b)\n",
    "print(\"GCD:\",GCD(12,18))\n",
    "print(\"LCM:\",(12*18)//GCD(12,18))"
   ]
  },
  {
   "cell_type": "code",
   "execution_count": 31,
   "id": "4d40a89d-1529-4c8a-85d8-8bd3aaf208d9",
   "metadata": {},
   "outputs": [
    {
     "name": "stdout",
     "output_type": "stream",
     "text": [
      "hours: 248 minutes: 44 seconds: 23 "
     ]
    }
   ],
   "source": [
    "def convert(s):\n",
    "    hours=s//3600\n",
    "    s=s%3600\n",
    "    mins=s//60\n",
    "    s=s%60\n",
    "    print(\"hours:\",hours,end=\" \")\n",
    "    print(\"minutes:\",mins,end=\" \")\n",
    "    print(\"seconds:\",s,end=\" \")\n",
    "convert(895463)"
   ]
  },
  {
   "cell_type": "code",
   "execution_count": 32,
   "id": "a1c19549-9a36-4182-af91-d2288384a76d",
   "metadata": {},
   "outputs": [
    {
     "name": "stdout",
     "output_type": "stream",
     "text": [
      "leap year\n"
     ]
    }
   ],
   "source": [
    "def checkLeap(year):\n",
    "    if year%4==0 and year%100==0:\n",
    "        print(\"leap year\")\n",
    "    elif year%100==0:\n",
    "        print(\"not a leap year\")\n",
    "    elif year%4==0:\n",
    "        print(\"leap year\")\n",
    "    else:\n",
    "        print(\"not a leap year\")\n",
    "checkLeap(2016)"
   ]
  },
  {
   "cell_type": "code",
   "execution_count": 11,
   "id": "79efa630-033a-4963-af0a-6e42f6357eda",
   "metadata": {},
   "outputs": [
    {
     "name": "stdout",
     "output_type": "stream",
     "text": [
      "5\n",
      "7\n",
      "11\n",
      "13\n",
      "17\n",
      "19\n",
      "23\n"
     ]
    }
   ],
   "source": [
    "def isPrime(n):\n",
    "    for i in range(2,n):\n",
    "        if n%i==0:\n",
    "            return False\n",
    "    return True\n",
    "def printPrimes(a,b):\n",
    "    for i in range(a,b+1):\n",
    "        if i>1 and isPrime(i)==True:\n",
    "            print(i)\n",
    "printPrimes(5,23)"
   ]
  },
  {
   "cell_type": "code",
   "execution_count": 14,
   "id": "4b405765-6e1f-4b6c-80c9-70cc4a2adb3a",
   "metadata": {},
   "outputs": [
    {
     "name": "stdout",
     "output_type": "stream",
     "text": [
      "0\n",
      "1\n",
      "1\n",
      "2\n",
      "3\n",
      "5\n",
      "8\n",
      "13\n",
      "21\n",
      "34\n",
      "55\n"
     ]
    }
   ],
   "source": [
    "def fib(n):\n",
    "    if n<=1:\n",
    "        return n\n",
    "    return fib(n-1)+fib(n-2)\n",
    "for i in range(0,11):\n",
    "    print(fib(i))"
   ]
  },
  {
   "cell_type": "code",
   "execution_count": 16,
   "id": "4f746e4a-a865-4181-b75f-b5d78457349f",
   "metadata": {},
   "outputs": [
    {
     "name": "stdout",
     "output_type": "stream",
     "text": [
      "Vowels: 3\n",
      "Consonants: 7\n",
      "Digits: 3\n",
      "Special Characters: 3\n"
     ]
    }
   ],
   "source": [
    "def count_characters(s):\n",
    "    vowels = \"aeiouAEIOU\"\n",
    "    vowel_count = consonant_count = digit_count = special_count = 0\n",
    "\n",
    "    for ch in s:\n",
    "        if ch.isalpha():  # checks if it's an alphabet\n",
    "            if ch in vowels:\n",
    "                vowel_count += 1\n",
    "            else:\n",
    "                consonant_count += 1\n",
    "        elif ch.isdigit():\n",
    "            digit_count += 1\n",
    "        elif not ch.isspace():  # ignore spaces\n",
    "            special_count += 1\n",
    "\n",
    "    print(\"Vowels:\", vowel_count)\n",
    "    print(\"Consonants:\", consonant_count)\n",
    "    print(\"Digits:\", digit_count)\n",
    "    print(\"Special Characters:\", special_count)\n",
    "\n",
    "\n",
    "# Example usage\n",
    "text = \"Hello World! 123 :)\"\n",
    "count_characters(text)\n"
   ]
  },
  {
   "cell_type": "code",
   "execution_count": 15,
   "id": "841b81f8-e8a0-4692-9e48-38f9f506941d",
   "metadata": {},
   "outputs": [
    {
     "name": "stdout",
     "output_type": "stream",
     "text": [
      "120\n"
     ]
    }
   ],
   "source": [
    "def factorial(n):\n",
    "    f=1\n",
    "    for i in range(1,n+1):\n",
    "        f=f*i\n",
    "    print(f)\n",
    "factorial(5)"
   ]
  },
  {
   "cell_type": "code",
   "execution_count": 20,
   "id": "ba811c9b-bcf9-4331-ae7f-6cc694c24937",
   "metadata": {},
   "outputs": [
    {
     "name": "stdout",
     "output_type": "stream",
     "text": [
      "[[ 98  89]\n",
      " [584 369]]\n"
     ]
    }
   ],
   "source": [
    "import numpy as np\n",
    "a=np.array([[1,2,8],[14,23,8]])\n",
    "b=np.array([[18,7],[12,9],[7,8]])\n",
    "print(np.dot(a,b))"
   ]
  },
  {
   "cell_type": "code",
   "execution_count": 22,
   "id": "81c9579d-3460-4a31-9f18-8cff7264ad22",
   "metadata": {},
   "outputs": [
    {
     "name": "stdout",
     "output_type": "stream",
     "text": [
      "24.5\n",
      "6.5\n",
      "34.42745997020402\n"
     ]
    }
   ],
   "source": [
    "c=np.array([1,7,84,6])\n",
    "print(np.mean(c))\n",
    "print(np.median(c))\n",
    "print(np.std(c))"
   ]
  },
  {
   "cell_type": "code",
   "execution_count": 25,
   "id": "07da8399-37a7-433a-8502-cfdb8912792b",
   "metadata": {},
   "outputs": [
    {
     "data": {
      "text/html": [
       "<div>\n",
       "<style scoped>\n",
       "    .dataframe tbody tr th:only-of-type {\n",
       "        vertical-align: middle;\n",
       "    }\n",
       "\n",
       "    .dataframe tbody tr th {\n",
       "        vertical-align: top;\n",
       "    }\n",
       "\n",
       "    .dataframe thead th {\n",
       "        text-align: right;\n",
       "    }\n",
       "</style>\n",
       "<table border=\"1\" class=\"dataframe\">\n",
       "  <thead>\n",
       "    <tr style=\"text-align: right;\">\n",
       "      <th></th>\n",
       "      <th>Unnamed: 0</th>\n",
       "      <th>Acs</th>\n",
       "      <th>Refrigerators</th>\n",
       "      <th>Microwaves</th>\n",
       "      <th>WashingMachines</th>\n",
       "      <th>Smartphones</th>\n",
       "      <th>Laptops</th>\n",
       "      <th>Sales</th>\n",
       "    </tr>\n",
       "  </thead>\n",
       "  <tbody>\n",
       "    <tr>\n",
       "      <th>0</th>\n",
       "      <td>1</td>\n",
       "      <td>230.1</td>\n",
       "      <td>37.8</td>\n",
       "      <td>69.2</td>\n",
       "      <td>69.2</td>\n",
       "      <td>69.2</td>\n",
       "      <td>69.2</td>\n",
       "      <td>22.1</td>\n",
       "    </tr>\n",
       "    <tr>\n",
       "      <th>1</th>\n",
       "      <td>2</td>\n",
       "      <td>44.5</td>\n",
       "      <td>39.3</td>\n",
       "      <td>45.1</td>\n",
       "      <td>45.1</td>\n",
       "      <td>45.1</td>\n",
       "      <td>45.1</td>\n",
       "      <td>10.4</td>\n",
       "    </tr>\n",
       "    <tr>\n",
       "      <th>2</th>\n",
       "      <td>3</td>\n",
       "      <td>17.2</td>\n",
       "      <td>45.9</td>\n",
       "      <td>69.3</td>\n",
       "      <td>69.3</td>\n",
       "      <td>69.3</td>\n",
       "      <td>69.3</td>\n",
       "      <td>9.3</td>\n",
       "    </tr>\n",
       "    <tr>\n",
       "      <th>3</th>\n",
       "      <td>4</td>\n",
       "      <td>151.5</td>\n",
       "      <td>41.3</td>\n",
       "      <td>58.5</td>\n",
       "      <td>58.5</td>\n",
       "      <td>58.5</td>\n",
       "      <td>58.5</td>\n",
       "      <td>18.5</td>\n",
       "    </tr>\n",
       "    <tr>\n",
       "      <th>4</th>\n",
       "      <td>5</td>\n",
       "      <td>180.8</td>\n",
       "      <td>10.8</td>\n",
       "      <td>58.4</td>\n",
       "      <td>58.4</td>\n",
       "      <td>58.4</td>\n",
       "      <td>58.4</td>\n",
       "      <td>12.9</td>\n",
       "    </tr>\n",
       "    <tr>\n",
       "      <th>...</th>\n",
       "      <td>...</td>\n",
       "      <td>...</td>\n",
       "      <td>...</td>\n",
       "      <td>...</td>\n",
       "      <td>...</td>\n",
       "      <td>...</td>\n",
       "      <td>...</td>\n",
       "      <td>...</td>\n",
       "    </tr>\n",
       "    <tr>\n",
       "      <th>1039</th>\n",
       "      <td>1040</td>\n",
       "      <td>987.7</td>\n",
       "      <td>873.6</td>\n",
       "      <td>844.0</td>\n",
       "      <td>844.0</td>\n",
       "      <td>844.0</td>\n",
       "      <td>844.0</td>\n",
       "      <td>855.3</td>\n",
       "    </tr>\n",
       "    <tr>\n",
       "      <th>1040</th>\n",
       "      <td>1041</td>\n",
       "      <td>988.7</td>\n",
       "      <td>874.6</td>\n",
       "      <td>845.0</td>\n",
       "      <td>845.0</td>\n",
       "      <td>845.0</td>\n",
       "      <td>845.0</td>\n",
       "      <td>856.3</td>\n",
       "    </tr>\n",
       "    <tr>\n",
       "      <th>1041</th>\n",
       "      <td>1042</td>\n",
       "      <td>989.7</td>\n",
       "      <td>875.6</td>\n",
       "      <td>846.0</td>\n",
       "      <td>846.0</td>\n",
       "      <td>846.0</td>\n",
       "      <td>846.0</td>\n",
       "      <td>857.3</td>\n",
       "    </tr>\n",
       "    <tr>\n",
       "      <th>1042</th>\n",
       "      <td>1043</td>\n",
       "      <td>990.7</td>\n",
       "      <td>876.6</td>\n",
       "      <td>847.0</td>\n",
       "      <td>847.0</td>\n",
       "      <td>847.0</td>\n",
       "      <td>847.0</td>\n",
       "      <td>858.3</td>\n",
       "    </tr>\n",
       "    <tr>\n",
       "      <th>1043</th>\n",
       "      <td>1044</td>\n",
       "      <td>991.7</td>\n",
       "      <td>877.6</td>\n",
       "      <td>848.0</td>\n",
       "      <td>848.0</td>\n",
       "      <td>848.0</td>\n",
       "      <td>848.0</td>\n",
       "      <td>859.3</td>\n",
       "    </tr>\n",
       "  </tbody>\n",
       "</table>\n",
       "<p>1044 rows × 8 columns</p>\n",
       "</div>"
      ],
      "text/plain": [
       "      Unnamed: 0    Acs  Refrigerators  Microwaves  WashingMachines  \\\n",
       "0              1  230.1           37.8        69.2             69.2   \n",
       "1              2   44.5           39.3        45.1             45.1   \n",
       "2              3   17.2           45.9        69.3             69.3   \n",
       "3              4  151.5           41.3        58.5             58.5   \n",
       "4              5  180.8           10.8        58.4             58.4   \n",
       "...          ...    ...            ...         ...              ...   \n",
       "1039        1040  987.7          873.6       844.0            844.0   \n",
       "1040        1041  988.7          874.6       845.0            845.0   \n",
       "1041        1042  989.7          875.6       846.0            846.0   \n",
       "1042        1043  990.7          876.6       847.0            847.0   \n",
       "1043        1044  991.7          877.6       848.0            848.0   \n",
       "\n",
       "      Smartphones  Laptops  Sales  \n",
       "0            69.2     69.2   22.1  \n",
       "1            45.1     45.1   10.4  \n",
       "2            69.3     69.3    9.3  \n",
       "3            58.5     58.5   18.5  \n",
       "4            58.4     58.4   12.9  \n",
       "...           ...      ...    ...  \n",
       "1039        844.0    844.0  855.3  \n",
       "1040        845.0    845.0  856.3  \n",
       "1041        846.0    846.0  857.3  \n",
       "1042        847.0    847.0  858.3  \n",
       "1043        848.0    848.0  859.3  \n",
       "\n",
       "[1044 rows x 8 columns]"
      ]
     },
     "execution_count": 25,
     "metadata": {},
     "output_type": "execute_result"
    }
   ],
   "source": [
    "import pandas as pd\n",
    "df=pd.read_csv('AmazonSales.csv')\n",
    "df\n"
   ]
  },
  {
   "cell_type": "code",
   "execution_count": 26,
   "id": "8f698775-f60f-45de-ad36-845fbf3ee935",
   "metadata": {},
   "outputs": [
    {
     "data": {
      "text/html": [
       "<div>\n",
       "<style scoped>\n",
       "    .dataframe tbody tr th:only-of-type {\n",
       "        vertical-align: middle;\n",
       "    }\n",
       "\n",
       "    .dataframe tbody tr th {\n",
       "        vertical-align: top;\n",
       "    }\n",
       "\n",
       "    .dataframe thead th {\n",
       "        text-align: right;\n",
       "    }\n",
       "</style>\n",
       "<table border=\"1\" class=\"dataframe\">\n",
       "  <thead>\n",
       "    <tr style=\"text-align: right;\">\n",
       "      <th></th>\n",
       "      <th>Unnamed: 0</th>\n",
       "      <th>Acs</th>\n",
       "      <th>Refrigerators</th>\n",
       "      <th>Microwaves</th>\n",
       "      <th>WashingMachines</th>\n",
       "      <th>Smartphones</th>\n",
       "      <th>Laptops</th>\n",
       "      <th>Sales</th>\n",
       "    </tr>\n",
       "  </thead>\n",
       "  <tbody>\n",
       "    <tr>\n",
       "      <th>count</th>\n",
       "      <td>1044.000000</td>\n",
       "      <td>1044.000000</td>\n",
       "      <td>1044.000000</td>\n",
       "      <td>1044.000000</td>\n",
       "      <td>1044.000000</td>\n",
       "      <td>1044.000000</td>\n",
       "      <td>1044.000000</td>\n",
       "      <td>1044.000000</td>\n",
       "    </tr>\n",
       "    <tr>\n",
       "      <th>mean</th>\n",
       "      <td>522.500000</td>\n",
       "      <td>489.152682</td>\n",
       "      <td>373.188314</td>\n",
       "      <td>350.646935</td>\n",
       "      <td>350.646935</td>\n",
       "      <td>350.646935</td>\n",
       "      <td>350.646935</td>\n",
       "      <td>356.619732</td>\n",
       "    </tr>\n",
       "    <tr>\n",
       "      <th>std</th>\n",
       "      <td>301.521144</td>\n",
       "      <td>277.828085</td>\n",
       "      <td>277.696245</td>\n",
       "      <td>269.127816</td>\n",
       "      <td>269.127816</td>\n",
       "      <td>269.127816</td>\n",
       "      <td>269.127816</td>\n",
       "      <td>275.459711</td>\n",
       "    </tr>\n",
       "    <tr>\n",
       "      <th>min</th>\n",
       "      <td>1.000000</td>\n",
       "      <td>0.700000</td>\n",
       "      <td>0.000000</td>\n",
       "      <td>0.300000</td>\n",
       "      <td>0.300000</td>\n",
       "      <td>0.300000</td>\n",
       "      <td>0.300000</td>\n",
       "      <td>1.600000</td>\n",
       "    </tr>\n",
       "    <tr>\n",
       "      <th>25%</th>\n",
       "      <td>261.750000</td>\n",
       "      <td>239.875000</td>\n",
       "      <td>95.350000</td>\n",
       "      <td>73.850000</td>\n",
       "      <td>73.850000</td>\n",
       "      <td>73.850000</td>\n",
       "      <td>73.850000</td>\n",
       "      <td>77.050000</td>\n",
       "    </tr>\n",
       "    <tr>\n",
       "      <th>50%</th>\n",
       "      <td>522.500000</td>\n",
       "      <td>470.200000</td>\n",
       "      <td>356.100000</td>\n",
       "      <td>326.500000</td>\n",
       "      <td>326.500000</td>\n",
       "      <td>326.500000</td>\n",
       "      <td>326.500000</td>\n",
       "      <td>337.800000</td>\n",
       "    </tr>\n",
       "    <tr>\n",
       "      <th>75%</th>\n",
       "      <td>783.250000</td>\n",
       "      <td>730.950000</td>\n",
       "      <td>616.850000</td>\n",
       "      <td>587.250000</td>\n",
       "      <td>587.250000</td>\n",
       "      <td>587.250000</td>\n",
       "      <td>587.250000</td>\n",
       "      <td>598.550000</td>\n",
       "    </tr>\n",
       "    <tr>\n",
       "      <th>max</th>\n",
       "      <td>1044.000000</td>\n",
       "      <td>991.700000</td>\n",
       "      <td>877.600000</td>\n",
       "      <td>848.000000</td>\n",
       "      <td>848.000000</td>\n",
       "      <td>848.000000</td>\n",
       "      <td>848.000000</td>\n",
       "      <td>859.300000</td>\n",
       "    </tr>\n",
       "  </tbody>\n",
       "</table>\n",
       "</div>"
      ],
      "text/plain": [
       "        Unnamed: 0          Acs  Refrigerators   Microwaves  WashingMachines  \\\n",
       "count  1044.000000  1044.000000    1044.000000  1044.000000      1044.000000   \n",
       "mean    522.500000   489.152682     373.188314   350.646935       350.646935   \n",
       "std     301.521144   277.828085     277.696245   269.127816       269.127816   \n",
       "min       1.000000     0.700000       0.000000     0.300000         0.300000   \n",
       "25%     261.750000   239.875000      95.350000    73.850000        73.850000   \n",
       "50%     522.500000   470.200000     356.100000   326.500000       326.500000   \n",
       "75%     783.250000   730.950000     616.850000   587.250000       587.250000   \n",
       "max    1044.000000   991.700000     877.600000   848.000000       848.000000   \n",
       "\n",
       "       Smartphones      Laptops        Sales  \n",
       "count  1044.000000  1044.000000  1044.000000  \n",
       "mean    350.646935   350.646935   356.619732  \n",
       "std     269.127816   269.127816   275.459711  \n",
       "min       0.300000     0.300000     1.600000  \n",
       "25%      73.850000    73.850000    77.050000  \n",
       "50%     326.500000   326.500000   337.800000  \n",
       "75%     587.250000   587.250000   598.550000  \n",
       "max     848.000000   848.000000   859.300000  "
      ]
     },
     "execution_count": 26,
     "metadata": {},
     "output_type": "execute_result"
    }
   ],
   "source": [
    "df.describe()"
   ]
  },
  {
   "cell_type": "code",
   "execution_count": 33,
   "id": "df33a686-aafa-4472-a611-6e7b564b470f",
   "metadata": {},
   "outputs": [
    {
     "name": "stdout",
     "output_type": "stream",
     "text": [
      "String without punctuation: Hello world Python is great isnt it\n",
      "Number of words: 7\n"
     ]
    }
   ],
   "source": [
    "def remove_punctuation_and_count(s):\n",
    "    punctuations = '''!()-[]{};:'\"\\,<>./?@#$%^&*_~'''\n",
    "    cleaned = \"\"\n",
    "\n",
    "    for ch in s:\n",
    "        if ch not in punctuations:\n",
    "            cleaned += ch\n",
    "\n",
    "    words = cleaned.split()\n",
    "    print(\"String without punctuation:\", cleaned)\n",
    "    print(\"Number of words:\", len(words))\n",
    "\n",
    "# Example\n",
    "text = \"Hello, world! Python is great, isn't it?\"\n",
    "remove_punctuation_and_count(text)"
   ]
  },
  {
   "cell_type": "code",
   "execution_count": 34,
   "id": "3e161d5b-4b6e-407d-86cc-a32f285c96ac",
   "metadata": {},
   "outputs": [
    {
     "name": "stdout",
     "output_type": "stream",
     "text": [
      "{1, 4, 5, 6, 9, 12, 16}\n",
      "{4}\n",
      "{1, 12, 5}\n"
     ]
    }
   ],
   "source": [
    "set1={1,4,5,12}\n",
    "set2={4,6,9,16}\n",
    "print(set1.union(set2))\n",
    "print(set1.intersection(set2))\n",
    "print(set1.difference(set2))"
   ]
  },
  {
   "cell_type": "code",
   "execution_count": 35,
   "id": "a0363673-040f-47a1-b005-2372c7c6eacc",
   "metadata": {},
   "outputs": [
    {
     "name": "stdout",
     "output_type": "stream",
     "text": [
      "{'I': 1, 'am': 1, 'good': 2}\n"
     ]
    }
   ],
   "source": [
    "def countOccurences(s):\n",
    "    words=s.split(' ')\n",
    "    freq={}\n",
    "    for word in words:\n",
    "        freq[word]=freq.get(word,0)+1\n",
    "    print(freq)\n",
    "countOccurences(\"I am good good\")"
   ]
  },
  {
   "cell_type": "code",
   "execution_count": 36,
   "id": "cf6e68db-37af-45b1-aa65-a3252ea3d056",
   "metadata": {},
   "outputs": [
    {
     "name": "stdout",
     "output_type": "stream",
     "text": [
      "Email addresses found: ['support@example.com', 'info123@test.org']\n"
     ]
    }
   ],
   "source": [
    "import re\n",
    "\n",
    "def extract_emails(s):\n",
    "    pattern = r'[a-zA-Z0-9._%+-]+@[a-zA-Z0-9.-]+\\.[a-zA-Z]{2,}'\n",
    "    emails = re.findall(pattern, s)\n",
    "    print(\"Email addresses found:\", emails)\n",
    "\n",
    "# Example\n",
    "text = \"Contact us at support@example.com or info123@test.org for help.\"\n",
    "extract_emails(text)\n"
   ]
  },
  {
   "cell_type": "code",
   "execution_count": null,
   "id": "d9c2210d-f758-46f5-973b-a8093259c455",
   "metadata": {},
   "outputs": [],
   "source": []
  }
 ],
 "metadata": {
  "kernelspec": {
   "display_name": "Python 3 (ipykernel)",
   "language": "python",
   "name": "python3"
  },
  "language_info": {
   "codemirror_mode": {
    "name": "ipython",
    "version": 3
   },
   "file_extension": ".py",
   "mimetype": "text/x-python",
   "name": "python",
   "nbconvert_exporter": "python",
   "pygments_lexer": "ipython3",
   "version": "3.13.5"
  }
 },
 "nbformat": 4,
 "nbformat_minor": 5
}
